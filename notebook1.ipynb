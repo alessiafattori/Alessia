{
 "cells": [
  {
   "cell_type": "code",
   "execution_count": 4,
   "id": "composed-estate",
   "metadata": {
    "id": "0200e164-e257-4185-a0ec-88ab77d085c4",
    "tags": []
   },
   "outputs": [
    {
     "name": "stdout",
     "output_type": "stream",
     "text": [
      "hello world\n"
     ]
    }
   ],
   "source": [
    "print ('hello world')"
   ]
  },
  {
   "cell_type": "code",
   "execution_count": null,
   "id": "pointed-anxiety",
   "metadata": {
    "id": "ff89af0a-1a8e-4505-a31c-3b0e0ba0841b"
   },
   "outputs": [],
   "source": []
  },
  {
   "cell_type": "code",
   "execution_count": null,
   "id": "rational-development",
   "metadata": {
    "id": "d8142fc9-8d83-49b9-8eb3-82194f16f97a"
   },
   "outputs": [],
   "source": []
  }
 ],
 "metadata": {
  "kernelspec": {
   "display_name": "Python 3.9",
   "language": "python",
   "name": "python3"
  },
  "language_info": {
   "codemirror_mode": {
    "name": "ipython",
    "version": 3
   },
   "file_extension": ".py",
   "mimetype": "text/x-python",
   "name": "python",
   "nbconvert_exporter": "python",
   "pygments_lexer": "ipython3",
   "version": "3.9.7"
  }
 },
 "nbformat": 4,
 "nbformat_minor": 5
}
